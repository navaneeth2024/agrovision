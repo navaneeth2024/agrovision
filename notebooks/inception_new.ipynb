{
 "cells": [
  {
   "cell_type": "code",
   "execution_count": 2,
   "metadata": {},
   "outputs": [],
   "source": [
    "import json\n",
    "import numpy as np\n",
    "import matplotlib.pyplot as plt\n",
    "from tensorflow.keras.preprocessing.image import ImageDataGenerator\n",
    "from tensorflow.keras.applications import InceptionV3\n",
    "from tensorflow.keras.models import Sequential\n",
    "from tensorflow.keras.layers import Dense, Flatten, Dropout\n",
    "from tensorflow.keras.optimizers import Adam\n",
    "from tensorflow.keras.callbacks import ModelCheckpoint, EarlyStopping\n",
    "from tensorflow.keras.applications.inception_v3 import preprocess_input\n",
    "from tensorflow.keras.preprocessing.image import load_img, img_to_array"
   ]
  },
  {
   "cell_type": "code",
   "execution_count": 3,
   "metadata": {},
   "outputs": [],
   "source": [
    "# Define directories and hyperparameters\n",
    "train_dir = 'D:/testproject/New Plant Diseases Dataset(Augmented)/New Plant Diseases Dataset(Augmented)/train'\n",
    "val_dir = 'D:/testproject/New Plant Diseases Dataset(Augmented)/New Plant Diseases Dataset(Augmented)/valid'\n",
    "test_dir = 'D:/testproject/New Plant Diseases Dataset(Augmented)/test'\n",
    "img_size = (299, 299)  # Input size for InceptionV3\n",
    "batch_size = 16\n",
    "epochs = 20\n",
    "patience = 5"
   ]
  },
  {
   "cell_type": "code",
   "execution_count": 4,
   "metadata": {},
   "outputs": [
    {
     "name": "stdout",
     "output_type": "stream",
     "text": [
      "Found 12750 images belonging to 17 classes.\n",
      "Found 7809 images belonging to 17 classes.\n",
      "Found 468 images belonging to 1 classes.\n"
     ]
    }
   ],
   "source": [
    "# Data preprocessing and augmentation\n",
    "train_datagen = ImageDataGenerator(\n",
    "    preprocessing_function=preprocess_input,\n",
    "    rotation_range=40,\n",
    "    width_shift_range=0.2,\n",
    "    height_shift_range=0.2,\n",
    "    shear_range=0.2,\n",
    "    zoom_range=0.2,\n",
    "    horizontal_flip=True,\n",
    "    fill_mode='nearest'\n",
    ")\n",
    "\n",
    "val_datagen = ImageDataGenerator(\n",
    "    preprocessing_function=preprocess_input\n",
    ")\n",
    "\n",
    "test_datagen = ImageDataGenerator(\n",
    "    preprocessing_function=preprocess_input\n",
    ")\n",
    "\n",
    "train_generator = train_datagen.flow_from_directory(\n",
    "    train_dir,\n",
    "    target_size=img_size,\n",
    "    batch_size=batch_size,\n",
    "    class_mode='categorical'\n",
    ")\n",
    "\n",
    "val_generator = val_datagen.flow_from_directory(\n",
    "    val_dir,\n",
    "    target_size=img_size,\n",
    "    batch_size=batch_size,\n",
    "    class_mode='categorical'\n",
    ")\n",
    "\n",
    "test_generator = test_datagen.flow_from_directory(\n",
    "    test_dir,\n",
    "    target_size=img_size,\n",
    "    batch_size=batch_size,\n",
    "    class_mode='categorical',\n",
    "    shuffle=False\n",
    ")"
   ]
  },
  {
   "cell_type": "code",
   "execution_count": 5,
   "metadata": {},
   "outputs": [],
   "source": [
    "# Load InceptionV3 model with pre-trained weights\n",
    "base_model = InceptionV3(weights='imagenet', include_top=False, input_shape=(299, 299, 3))\n",
    "\n",
    "# Freeze all layers of the base model\n",
    "for layer in base_model.layers:\n",
    "    layer.trainable = False\n",
    "\n",
    "# Add custom layers on top of the base model\n",
    "model = Sequential([\n",
    "    base_model,\n",
    "    Flatten(),\n",
    "    Dense(256, activation='relu'),\n",
    "    Dropout(0.5),\n",
    "    Dense(train_generator.num_classes, activation='softmax')\n",
    "])"
   ]
  },
  {
   "cell_type": "code",
   "execution_count": 6,
   "metadata": {},
   "outputs": [],
   "source": [
    "# Compile the model\n",
    "model.compile(optimizer=Adam(learning_rate=0.0001), loss='categorical_crossentropy', metrics=['accuracy'])"
   ]
  },
  {
   "cell_type": "code",
   "execution_count": 7,
   "metadata": {},
   "outputs": [],
   "source": [
    "# Define callbacks\n",
    "checkpoint = ModelCheckpoint('models/inception_plant_disease_detection[17032024].h5', monitor='val_accuracy', verbose=1, save_best_only=True, mode='max')\n",
    "early_stopping = EarlyStopping(monitor='val_loss', patience=patience, verbose=1, restore_best_weights=True)"
   ]
  },
  {
   "cell_type": "code",
   "execution_count": 8,
   "metadata": {},
   "outputs": [
    {
     "name": "stdout",
     "output_type": "stream",
     "text": [
      "Epoch 1/20\n",
      "796/796 [==============================] - ETA: 0s - loss: 1.8247 - accuracy: 0.4050\n",
      "Epoch 1: val_accuracy improved from -inf to 0.80853, saving model to models\\inception_plant_disease_detection[17032024].h5\n",
      "796/796 [==============================] - 390s 473ms/step - loss: 1.8247 - accuracy: 0.4050 - val_loss: 0.7305 - val_accuracy: 0.8085\n",
      "Epoch 2/20\n",
      "796/796 [==============================] - ETA: 0s - loss: 1.3165 - accuracy: 0.5404\n",
      "Epoch 2: val_accuracy improved from 0.80853 to 0.81519, saving model to models\\inception_plant_disease_detection[17032024].h5\n",
      "796/796 [==============================] - 327s 410ms/step - loss: 1.3165 - accuracy: 0.5404 - val_loss: 0.6462 - val_accuracy: 0.8152\n",
      "Epoch 3/20\n",
      "796/796 [==============================] - ETA: 0s - loss: 1.1651 - accuracy: 0.5829\n",
      "Epoch 3: val_accuracy improved from 0.81519 to 0.83799, saving model to models\\inception_plant_disease_detection[17032024].h5\n",
      "796/796 [==============================] - 273s 343ms/step - loss: 1.1651 - accuracy: 0.5829 - val_loss: 0.5566 - val_accuracy: 0.8380\n",
      "Epoch 4/20\n",
      "796/796 [==============================] - ETA: 0s - loss: 1.0875 - accuracy: 0.6038\n",
      "Epoch 4: val_accuracy improved from 0.83799 to 0.85425, saving model to models\\inception_plant_disease_detection[17032024].h5\n",
      "796/796 [==============================] - 247s 310ms/step - loss: 1.0875 - accuracy: 0.6038 - val_loss: 0.4755 - val_accuracy: 0.8543\n",
      "Epoch 5/20\n",
      "796/796 [==============================] - ETA: 0s - loss: 1.0452 - accuracy: 0.6202\n",
      "Epoch 5: val_accuracy improved from 0.85425 to 0.88025, saving model to models\\inception_plant_disease_detection[17032024].h5\n",
      "796/796 [==============================] - 254s 319ms/step - loss: 1.0452 - accuracy: 0.6202 - val_loss: 0.4395 - val_accuracy: 0.8803\n",
      "Epoch 6/20\n",
      "796/796 [==============================] - ETA: 0s - loss: 0.9921 - accuracy: 0.6331\n",
      "Epoch 6: val_accuracy did not improve from 0.88025\n",
      "796/796 [==============================] - 251s 315ms/step - loss: 0.9921 - accuracy: 0.6331 - val_loss: 0.4704 - val_accuracy: 0.8676\n",
      "Epoch 7/20\n",
      "796/796 [==============================] - ETA: 0s - loss: 0.9754 - accuracy: 0.6407\n",
      "Epoch 7: val_accuracy improved from 0.88025 to 0.88128, saving model to models\\inception_plant_disease_detection[17032024].h5\n",
      "796/796 [==============================] - 251s 316ms/step - loss: 0.9754 - accuracy: 0.6407 - val_loss: 0.4119 - val_accuracy: 0.8813\n",
      "Epoch 8/20\n",
      "796/796 [==============================] - ETA: 0s - loss: 0.9381 - accuracy: 0.6490\n",
      "Epoch 8: val_accuracy improved from 0.88128 to 0.89383, saving model to models\\inception_plant_disease_detection[17032024].h5\n",
      "796/796 [==============================] - 250s 314ms/step - loss: 0.9381 - accuracy: 0.6490 - val_loss: 0.3765 - val_accuracy: 0.8938\n",
      "Epoch 9/20\n",
      "796/796 [==============================] - ETA: 0s - loss: 0.9071 - accuracy: 0.6617\n",
      "Epoch 9: val_accuracy did not improve from 0.89383\n",
      "796/796 [==============================] - 244s 307ms/step - loss: 0.9071 - accuracy: 0.6617 - val_loss: 0.4386 - val_accuracy: 0.8746\n",
      "Epoch 10/20\n",
      "796/796 [==============================] - ETA: 0s - loss: 0.9028 - accuracy: 0.6646\n",
      "Epoch 10: val_accuracy did not improve from 0.89383\n",
      "796/796 [==============================] - 248s 311ms/step - loss: 0.9028 - accuracy: 0.6646 - val_loss: 0.4072 - val_accuracy: 0.8797\n",
      "Epoch 11/20\n",
      "796/796 [==============================] - ETA: 0s - loss: 0.8923 - accuracy: 0.6695\n",
      "Epoch 11: val_accuracy did not improve from 0.89383\n",
      "796/796 [==============================] - 257s 322ms/step - loss: 0.8923 - accuracy: 0.6695 - val_loss: 0.4114 - val_accuracy: 0.8877\n",
      "Epoch 12/20\n",
      "796/796 [==============================] - ETA: 0s - loss: 0.8763 - accuracy: 0.6717\n",
      "Epoch 12: val_accuracy did not improve from 0.89383\n",
      "796/796 [==============================] - 258s 324ms/step - loss: 0.8763 - accuracy: 0.6717 - val_loss: 0.3992 - val_accuracy: 0.8904\n",
      "Epoch 13/20\n",
      "796/796 [==============================] - ETA: 0s - loss: 0.8548 - accuracy: 0.6761\n",
      "Epoch 13: val_accuracy improved from 0.89383 to 0.90433, saving model to models\\inception_plant_disease_detection[17032024].h5\n",
      "796/796 [==============================] - 257s 322ms/step - loss: 0.8548 - accuracy: 0.6761 - val_loss: 0.3300 - val_accuracy: 0.9043\n",
      "Epoch 14/20\n",
      "796/796 [==============================] - ETA: 0s - loss: 0.8510 - accuracy: 0.6849\n",
      "Epoch 14: val_accuracy did not improve from 0.90433\n",
      "796/796 [==============================] - 253s 317ms/step - loss: 0.8510 - accuracy: 0.6849 - val_loss: 0.3774 - val_accuracy: 0.8954\n",
      "Epoch 15/20\n",
      "796/796 [==============================] - ETA: 0s - loss: 0.8440 - accuracy: 0.6876\n",
      "Epoch 15: val_accuracy did not improve from 0.90433\n",
      "796/796 [==============================] - 257s 323ms/step - loss: 0.8440 - accuracy: 0.6876 - val_loss: 0.3620 - val_accuracy: 0.8873\n",
      "Epoch 16/20\n",
      "796/796 [==============================] - ETA: 0s - loss: 0.8301 - accuracy: 0.6935\n",
      "Epoch 16: val_accuracy improved from 0.90433 to 0.90510, saving model to models\\inception_plant_disease_detection[17032024].h5\n",
      "796/796 [==============================] - 258s 324ms/step - loss: 0.8301 - accuracy: 0.6935 - val_loss: 0.3329 - val_accuracy: 0.9051\n",
      "Epoch 17/20\n",
      "796/796 [==============================] - ETA: 0s - loss: 0.8000 - accuracy: 0.6984\n",
      "Epoch 17: val_accuracy did not improve from 0.90510\n",
      "796/796 [==============================] - 255s 320ms/step - loss: 0.8000 - accuracy: 0.6984 - val_loss: 0.3670 - val_accuracy: 0.8965\n",
      "Epoch 18/20\n",
      "796/796 [==============================] - ETA: 0s - loss: 0.8103 - accuracy: 0.6964\n",
      "Epoch 18: val_accuracy did not improve from 0.90510\n",
      "Restoring model weights from the end of the best epoch: 13.\n",
      "796/796 [==============================] - 270s 339ms/step - loss: 0.8103 - accuracy: 0.6964 - val_loss: 0.3648 - val_accuracy: 0.9043\n",
      "Epoch 18: early stopping\n"
     ]
    }
   ],
   "source": [
    "# Train the model\n",
    "history = model.fit(\n",
    "    train_generator,\n",
    "    steps_per_epoch=train_generator.samples // batch_size,\n",
    "    epochs=epochs,\n",
    "    validation_data=val_generator,\n",
    "    validation_steps=val_generator.samples // batch_size,\n",
    "    callbacks=[checkpoint, early_stopping]\n",
    ") "
   ]
  },
  {
   "cell_type": "code",
   "execution_count": 9,
   "metadata": {},
   "outputs": [
    {
     "data": {
      "image/png": "[encoded data removed]",
      "text/plain": [
       "<Figure size 640x480 with 1 Axes>"
      ]
     },
     "metadata": {},
     "output_type": "display_data"
    }
   ],
   "source": [
    "# Plot training history\n",
    "plt.plot(history.history['accuracy'], label='accuracy')\n",
    "plt.plot(history.history['val_accuracy'], label='val_accuracy')\n",
    "plt.xlabel('Epoch')\n",
    "plt.ylabel('Accuracy')\n",
    "plt.ylim([0, 1])\n",
    "plt.legend(loc='lower right')\n",
    "plt.show()"
   ]
  },
  {
   "cell_type": "code",
   "execution_count": 10,
   "metadata": {},
   "outputs": [
    {
     "name": "stderr",
     "output_type": "stream",
     "text": [
      "C:\\Users\\Nabu\\AppData\\Local\\Temp\\ipykernel_1600\\1344913736.py:2: UserWarning: `Model.evaluate_generator` is deprecated and will be removed in a future version. Please use `Model.evaluate`, which supports generators.\n",
      "  test_loss, test_accuracy = model.evaluate_generator(test_generator, verbose=1)\n"
     ]
    },
    {
     "name": "stdout",
     "output_type": "stream",
     "text": [
      "30/30 [==============================] - 6s 192ms/step - loss: 287.1122 - accuracy: 0.0449\n",
      "Test Accuracy: 0.044871795922517776\n",
      "Test Loss: 287.1121520996094\n"
     ]
    }
   ],
   "source": [
    "# Evaluate the model on test generator\n",
    "test_loss, test_accuracy = model.evaluate_generator(test_generator, verbose=1)\n",
    "print('Test Accuracy:', test_accuracy)\n",
    "print('Test Loss:', test_loss)"
   ]
  },
  {
   "cell_type": "code",
   "execution_count": 11,
   "metadata": {},
   "outputs": [],
   "source": [
    "# Create a mapping from class indices to class names\n",
    "class_indices = {v: k for k, v in train_generator.class_indices.items()}"
   ]
  },
  {
   "cell_type": "code",
   "execution_count": 12,
   "metadata": {},
   "outputs": [],
   "source": [
    "# Save class indices to a JSON file\n",
    "with open('class_indices_inception.json', 'w') as f:\n",
    "    json.dump(class_indices, f)\n"
   ]
  },
  {
   "cell_type": "code",
   "execution_count": 13,
   "metadata": {},
   "outputs": [],
   "source": [
    "# Load class indices\n",
    "with open('class_indices_xception.json', 'r') as f:\n",
    "    class_indices = json.load(f)\n",
    "\n",
    "# Load remedies\n",
    "with open('remedies.json', 'r') as f:\n",
    "    remedies= json.load(f)"
   ]
  },
  {
   "cell_type": "code",
   "execution_count": 14,
   "metadata": {},
   "outputs": [],
   "source": [
    "# Function to predict disease from an image\n",
    "def predict_disease(image_path):\n",
    "    # Load and preprocess the image\n",
    "    img = load_img(image_path, target_size=(img_size))\n",
    "    img_array = img_to_array(img)\n",
    "    img_array = np.expand_dims(img_array, axis=0)\n",
    "    img_array = preprocess_input(img_array)\n",
    "\n",
    "    # Make prediction\n",
    "    prediction = model.predict(img_array)[0]\n",
    "    predicted_class_index = np.argmax(prediction)\n",
    "    disease = class_indices[str(predicted_class_index)]\n",
    "    confidence = prediction[predicted_class_index]\n",
    "\n",
    "    return disease, confidence "
   ]
  },
  {
   "cell_type": "code",
   "execution_count": 15,
   "metadata": {},
   "outputs": [
    {
     "name": "stdout",
     "output_type": "stream",
     "text": [
      "1/1 [==============================] - 3s 3s/step\n",
      "Predicted Disease: Corn_(maize)___Northern_Leaf_Blight, Confidence: 0.9989274144172668\n",
      "Remedies: Remedies for Corn Northern Leaf Blight\n"
     ]
    }
   ],
   "source": [
    "# Path to your test image\n",
    "image_path = 'New Plant Diseases Dataset(Augmented)/New Plant Diseases Dataset(Augmented)/valid/Corn_(maize)___Northern_Leaf_Blight/0b4fb93e-1a74-42ae-9227-18d900c04bd7___RS_NLB 3670.JPG'  # Replace with your image path\n",
    "\n",
    "# Predict disease for the test image\n",
    "disease, confidence = predict_disease(image_path)\n",
    "\n",
    "print(f'Predicted Disease: {disease}, Confidence: {confidence}')\n",
    "# Display remedies for the predicted disease\n",
    "if disease.strip() in remedies:\n",
    "    remedy = remedies[disease]\n",
    "    print(f'Remedies: {remedy}')\n",
    "else:\n",
    "    print('No remedies found for this disease.')\n"
   ]
  }
 ],
 "metadata": {
  "kernelspec": {
   "display_name": "Python 3",
   "language": "python",
   "name": "python3"
  },
  "language_info": {
   "codemirror_mode": {
    "name": "ipython",
    "version": 3
   },
   "file_extension": ".py",
   "mimetype": "text/x-python",
   "name": "python",
   "nbconvert_exporter": "python",
   "pygments_lexer": "ipython3",
   "version": "3.10.4"
  }
 },
 "nbformat": 4,
 "nbformat_minor": 2
}
