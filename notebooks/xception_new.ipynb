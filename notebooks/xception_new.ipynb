{
 "cells": [
  {
   "cell_type": "code",
   "execution_count": 1,
   "metadata": {},
   "outputs": [],
   "source": [
    "import json\n",
    "import os\n",
    "import numpy as np\n",
    "import matplotlib.pyplot as plt\n",
    "from tensorflow.keras.preprocessing.image import ImageDataGenerator\n",
    "from tensorflow.keras.applications import Xception\n",
    "from tensorflow.keras.models import Sequential\n",
    "from tensorflow.keras.layers import Dense, Flatten, Dropout\n",
    "from tensorflow.keras.optimizers import Adam\n",
    "from tensorflow.keras.callbacks import ModelCheckpoint, EarlyStopping\n",
    "from tensorflow.keras.applications.xception import preprocess_input  # Adjusted import for Xception\n",
    "from tensorflow.keras.preprocessing.image import load_img, img_to_array\n",
    "from tensorflow.keras.models import load_model"
   ]
  },
  {
   "cell_type": "code",
   "execution_count": 2,
   "metadata": {},
   "outputs": [
    {
     "name": "stdout",
     "output_type": "stream",
     "text": [
      "Name: /physical_device:GPU:0\n",
      "Type: GPU\n"
     ]
    }
   ],
   "source": [
    "# Check available GPUs\n",
    "import tensorflow as tf\n",
    "gpus = tf.config.list_physical_devices('GPU')\n",
    "if gpus:\n",
    "    # Print information about each GPU\n",
    "    for gpu in gpus:\n",
    "        print(\"Name:\", gpu.name)\n",
    "        print(\"Type:\", gpu.device_type)\n",
    "else:\n",
    "    print(\"No GPU available, using CPU instead\")\n"
   ]
  },
  {
   "cell_type": "code",
   "execution_count": 3,
   "metadata": {},
   "outputs": [],
   "source": [
    "train_dir = 'D:/testproject/New Plant Diseases Dataset(Augmented)/New Plant Diseases Dataset(Augmented)/train'\n",
    "val_dir = 'D:/testproject/New Plant Diseases Dataset(Augmented)/New Plant Diseases Dataset(Augmented)/valid'\n",
    "test_dir = 'D:/testproject/New Plant Diseases Dataset(Augmented)/test/test'\n",
    "img_size = (299, 299) \n",
    "batch_size = 16\n",
    "epochs = 20\n",
    "patience = 5\n"
   ]
  },
  {
   "cell_type": "code",
   "execution_count": 4,
   "metadata": {},
   "outputs": [
    {
     "name": "stdout",
     "output_type": "stream",
     "text": [
      "Found 12750 images belonging to 17 classes.\n",
      "Found 7809 images belonging to 17 classes.\n",
      "Found 468 images belonging to 17 classes.\n"
     ]
    }
   ],
   "source": [
    "# Data preprocessing and augmentation\n",
    "train_datagen = ImageDataGenerator(\n",
    "    preprocessing_function=preprocess_input,  \n",
    "    rotation_range=40,\n",
    "    width_shift_range=0.2,\n",
    "    height_shift_range=0.2,\n",
    "    shear_range=0.2,\n",
    "    zoom_range=0.2,\n",
    "    horizontal_flip=True,\n",
    "    fill_mode='nearest'\n",
    ")\n",
    "\n",
    "val_datagen = ImageDataGenerator(\n",
    "    preprocessing_function=preprocess_input  \n",
    ")\n",
    "\n",
    "test_datagen = ImageDataGenerator(\n",
    "    preprocessing_function=preprocess_input \n",
    ")\n",
    "\n",
    "train_generator = train_datagen.flow_from_directory(\n",
    "    train_dir,\n",
    "    target_size=img_size,\n",
    "    batch_size=batch_size,\n",
    "    class_mode='categorical'\n",
    ")\n",
    "\n",
    "val_generator = val_datagen.flow_from_directory(\n",
    "    val_dir,\n",
    "    target_size=img_size,\n",
    "    batch_size=batch_size,\n",
    "    class_mode='categorical'\n",
    ")\n",
    "\n",
    "test_generator = test_datagen.flow_from_directory(\n",
    "    test_dir,\n",
    "    target_size=img_size,\n",
    "    batch_size=batch_size,\n",
    "    class_mode='categorical',\n",
    "    shuffle=False\n",
    ")\n"
   ]
  },
  {
   "cell_type": "code",
   "execution_count": 5,
   "metadata": {},
   "outputs": [],
   "source": [
    "# Build the model\n",
    "base_model = Xception(weights='imagenet', include_top=False, input_shape=(299, 299, 3)) "
   ]
  },
  {
   "cell_type": "code",
   "execution_count": 6,
   "metadata": {},
   "outputs": [],
   "source": [
    "# Freeze all layers of the base model\n",
    "for layer in base_model.layers:\n",
    "    layer.trainable = False\n",
    "\n",
    "\n",
    "model = Sequential([\n",
    "    base_model,\n",
    "    Flatten(),\n",
    "    Dense(256, activation='relu'),\n",
    "    Dropout(0.5),\n",
    "    Dense(train_generator.num_classes, activation='softmax')\n",
    "])\n"
   ]
  },
  {
   "cell_type": "code",
   "execution_count": 7,
   "metadata": {},
   "outputs": [],
   "source": [
    "# Compile the model\n",
    "model.compile(optimizer=Adam(learning_rate=0.0001), loss='categorical_crossentropy', metrics=['accuracy'])\n"
   ]
  },
  {
   "cell_type": "code",
   "execution_count": 8,
   "metadata": {},
   "outputs": [],
   "source": [
    "# Define the file name\n",
    "file_name = 'models/xception_plant_disease_detection[01-04-2024].h5'\n",
    "\n",
    "# Check if the file already exists\n",
    "if os.path.exists(file_name):\n",
    "    # Prompt the user to rename the file\n",
    "    new_name = input(\"A file with the same name already exists. Please enter a new name: \")\n",
    "    file_name = f\"models/{new_name}.h5\"\n",
    "    print(\"New model name : \",file_name)\n",
    "\n",
    "# Define callbacks\n",
    "checkpoint = ModelCheckpoint(file_name, monitor='val_accuracy', verbose=1, save_best_only=True, mode='max')\n",
    "early_stopping = EarlyStopping(monitor='val_loss', patience=patience, verbose=1, restore_best_weights=True)\n",
    "\n"
   ]
  },
  {
   "cell_type": "code",
   "execution_count": 9,
   "metadata": {},
   "outputs": [
    {
     "name": "stdout",
     "output_type": "stream",
     "text": [
      "Epoch 1/20\n",
      "796/796 [==============================] - ETA: 0s - loss: 1.0855 - accuracy: 0.6531\n",
      "Epoch 1: val_accuracy improved from -inf to 0.86565, saving model to models\\xception_plant_disease_detection[17-03-2024].h5\n",
      "796/796 [==============================] - 370s 454ms/step - loss: 1.0855 - accuracy: 0.6531 - val_loss: 0.4087 - val_accuracy: 0.8657\n",
      "Epoch 2/20\n",
      "796/796 [==============================] - ETA: 0s - loss: 0.6948 - accuracy: 0.7729\n",
      "Epoch 2: val_accuracy improved from 0.86565 to 0.89024, saving model to models\\xception_plant_disease_detection[17-03-2024].h5\n",
      "796/796 [==============================] - 330s 415ms/step - loss: 0.6948 - accuracy: 0.7729 - val_loss: 0.3342 - val_accuracy: 0.8902\n",
      "Epoch 3/20\n",
      "796/796 [==============================] - ETA: 0s - loss: 0.5807 - accuracy: 0.8074\n",
      "Epoch 3: val_accuracy improved from 0.89024 to 0.90151, saving model to models\\xception_plant_disease_detection[17-03-2024].h5\n",
      "796/796 [==============================] - 316s 396ms/step - loss: 0.5807 - accuracy: 0.8074 - val_loss: 0.3139 - val_accuracy: 0.9015\n",
      "Epoch 4/20\n",
      "796/796 [==============================] - ETA: 0s - loss: 0.5237 - accuracy: 0.8263\n",
      "Epoch 4: val_accuracy improved from 0.90151 to 0.90702, saving model to models\\xception_plant_disease_detection[17-03-2024].h5\n",
      "796/796 [==============================] - 292s 366ms/step - loss: 0.5237 - accuracy: 0.8263 - val_loss: 0.3249 - val_accuracy: 0.9070\n",
      "Epoch 5/20\n",
      "796/796 [==============================] - ETA: 0s - loss: 0.4853 - accuracy: 0.8387\n",
      "Epoch 5: val_accuracy improved from 0.90702 to 0.91624, saving model to models\\xception_plant_disease_detection[17-03-2024].h5\n",
      "796/796 [==============================] - 301s 378ms/step - loss: 0.4853 - accuracy: 0.8387 - val_loss: 0.2925 - val_accuracy: 0.9162\n",
      "Epoch 6/20\n",
      "796/796 [==============================] - ETA: 0s - loss: 0.4608 - accuracy: 0.8482\n",
      "Epoch 6: val_accuracy improved from 0.91624 to 0.91650, saving model to models\\xception_plant_disease_detection[17-03-2024].h5\n",
      "796/796 [==============================] - 307s 385ms/step - loss: 0.4608 - accuracy: 0.8482 - val_loss: 0.2636 - val_accuracy: 0.9165\n",
      "Epoch 7/20\n",
      "796/796 [==============================] - ETA: 0s - loss: 0.4373 - accuracy: 0.8579\n",
      "Epoch 7: val_accuracy improved from 0.91650 to 0.91765, saving model to models\\xception_plant_disease_detection[17-03-2024].h5\n",
      "796/796 [==============================] - 314s 395ms/step - loss: 0.4373 - accuracy: 0.8579 - val_loss: 0.2543 - val_accuracy: 0.9176\n",
      "Epoch 8/20\n",
      "796/796 [==============================] - ETA: 0s - loss: 0.4131 - accuracy: 0.8618\n",
      "Epoch 8: val_accuracy did not improve from 0.91765\n",
      "796/796 [==============================] - 293s 368ms/step - loss: 0.4131 - accuracy: 0.8618 - val_loss: 0.3115 - val_accuracy: 0.9054\n",
      "Epoch 9/20\n",
      "796/796 [==============================] - ETA: 0s - loss: 0.4043 - accuracy: 0.8648\n",
      "Epoch 9: val_accuracy improved from 0.91765 to 0.92789, saving model to models\\xception_plant_disease_detection[17-03-2024].h5\n",
      "796/796 [==============================] - 294s 369ms/step - loss: 0.4043 - accuracy: 0.8648 - val_loss: 0.2572 - val_accuracy: 0.9279\n",
      "Epoch 10/20\n",
      "796/796 [==============================] - ETA: 0s - loss: 0.3827 - accuracy: 0.8733\n",
      "Epoch 10: val_accuracy did not improve from 0.92789\n",
      "796/796 [==============================] - 293s 368ms/step - loss: 0.3827 - accuracy: 0.8733 - val_loss: 0.3188 - val_accuracy: 0.9258\n",
      "Epoch 11/20\n",
      "796/796 [==============================] - ETA: 0s - loss: 0.3760 - accuracy: 0.8764\n",
      "Epoch 11: val_accuracy did not improve from 0.92789\n",
      "796/796 [==============================] - 353s 443ms/step - loss: 0.3760 - accuracy: 0.8764 - val_loss: 0.2774 - val_accuracy: 0.9251\n",
      "Epoch 12/20\n",
      "796/796 [==============================] - ETA: 0s - loss: 0.3680 - accuracy: 0.8798\n",
      "Epoch 12: val_accuracy improved from 0.92789 to 0.93046, saving model to models\\xception_plant_disease_detection[17-03-2024].h5\n",
      "796/796 [==============================] - 309s 388ms/step - loss: 0.3680 - accuracy: 0.8798 - val_loss: 0.2488 - val_accuracy: 0.9305\n",
      "Epoch 13/20\n",
      "796/796 [==============================] - ETA: 0s - loss: 0.3454 - accuracy: 0.8826\n",
      "Epoch 13: val_accuracy did not improve from 0.93046\n",
      "796/796 [==============================] - 344s 432ms/step - loss: 0.3454 - accuracy: 0.8826 - val_loss: 0.2816 - val_accuracy: 0.9221\n",
      "Epoch 14/20\n",
      "796/796 [==============================] - ETA: 0s - loss: 0.3435 - accuracy: 0.8873\n",
      "Epoch 14: val_accuracy improved from 0.93046 to 0.93135, saving model to models\\xception_plant_disease_detection[17-03-2024].h5\n",
      "796/796 [==============================] - 357s 448ms/step - loss: 0.3435 - accuracy: 0.8873 - val_loss: 0.2707 - val_accuracy: 0.9314\n",
      "Epoch 15/20\n",
      "796/796 [==============================] - ETA: 0s - loss: 0.3383 - accuracy: 0.8835\n",
      "Epoch 15: val_accuracy did not improve from 0.93135\n",
      "796/796 [==============================] - 309s 388ms/step - loss: 0.3383 - accuracy: 0.8835 - val_loss: 0.2899 - val_accuracy: 0.9235\n",
      "Epoch 16/20\n",
      "796/796 [==============================] - ETA: 0s - loss: 0.3261 - accuracy: 0.8908\n",
      "Epoch 16: val_accuracy improved from 0.93135 to 0.93289, saving model to models\\xception_plant_disease_detection[17-03-2024].h5\n",
      "796/796 [==============================] - 316s 396ms/step - loss: 0.3261 - accuracy: 0.8908 - val_loss: 0.2799 - val_accuracy: 0.9329\n",
      "Epoch 17/20\n",
      "796/796 [==============================] - ETA: 0s - loss: 0.3082 - accuracy: 0.8957\n",
      "Epoch 17: val_accuracy improved from 0.93289 to 0.93391, saving model to models\\xception_plant_disease_detection[17-03-2024].h5\n",
      "Restoring model weights from the end of the best epoch: 12.\n",
      "796/796 [==============================] - 311s 390ms/step - loss: 0.3082 - accuracy: 0.8957 - val_loss: 0.2887 - val_accuracy: 0.9339\n",
      "Epoch 17: early stopping\n"
     ]
    }
   ],
   "source": [
    "# Train the model\n",
    "history = model.fit(\n",
    "    train_generator,\n",
    "    steps_per_epoch=train_generator.samples // batch_size,\n",
    "    epochs=epochs,\n",
    "    validation_data=val_generator,\n",
    "    validation_steps=val_generator.samples // batch_size,\n",
    "    callbacks=[checkpoint, early_stopping] \n",
    ")"
   ]
  },
  {
   "cell_type": "code",
   "execution_count": 10,
   "metadata": {},
   "outputs": [
    {
     "data": {
      "image/png": "[encoded data removed]",
      "text/plain": [
       "<Figure size 640x480 with 1 Axes>"
      ]
     },
     "metadata": {},
     "output_type": "display_data"
    }
   ],
   "source": [
    "# Plot training history\n",
    "plt.plot(history.history['accuracy'], label='accuracy')\n",
    "plt.plot(history.history['val_accuracy'], label='val_accuracy')\n",
    "plt.xlabel('Epoch')\n",
    "plt.ylabel('Accuracy')\n",
    "plt.ylim([0, 1])\n",
    "plt.legend(loc='lower right')\n",
    "plt.show()\n"
   ]
  },
  {
   "cell_type": "code",
   "execution_count": 11,
   "metadata": {},
   "outputs": [],
   "source": [
    "# Load model\n",
    "#model = load_model('models/xception_plant_disease_detection.h5')"
   ]
  },
  {
   "cell_type": "code",
   "execution_count": 12,
   "metadata": {},
   "outputs": [
    {
     "name": "stderr",
     "output_type": "stream",
     "text": [
      "C:\\Users\\Nabu\\AppData\\Local\\Temp\\ipykernel_22084\\2128755816.py:2: UserWarning: `Model.evaluate_generator` is deprecated and will be removed in a future version. Please use `Model.evaluate`, which supports generators.\n",
      "  test_loss, test_accuracy = model.evaluate_generator(test_generator, verbose=1)\n"
     ]
    },
    {
     "name": "stdout",
     "output_type": "stream",
     "text": [
      "30/30 [==============================] - 7s 215ms/step - loss: 0.1374 - accuracy: 0.9444\n",
      "Test Accuracy: 0.9444444179534912\n",
      "Test Loss: 0.1373816281557083\n"
     ]
    }
   ],
   "source": [
    "# Evaluate the model on test generator\n",
    "test_loss, test_accuracy = model.evaluate_generator(test_generator, verbose=1)\n",
    "print('Test Accuracy:', test_accuracy)\n",
    "print('Test Loss:', test_loss)\n"
   ]
  },
  {
   "cell_type": "code",
   "execution_count": 13,
   "metadata": {},
   "outputs": [],
   "source": [
    "# Create a mapping from class indices to class names\n",
    "class_indices = {v: k for k, v in train_generator.class_indices.items()}\n"
   ]
  },
  {
   "cell_type": "code",
   "execution_count": 14,
   "metadata": {},
   "outputs": [],
   "source": [
    "# Save class indices to a JSON file\n",
    "with open('class_indices_xception.json', 'w') as f:\n",
    "    json.dump(class_indices, f)"
   ]
  },
  {
   "cell_type": "code",
   "execution_count": 15,
   "metadata": {},
   "outputs": [],
   "source": [
    "# Load class indices\n",
    "with open('class_indices_xception.json', 'r') as f:\n",
    "    class_indices = json.load(f)\n",
    "\n",
    "# Load remedies\n",
    "with open('remedies.json', 'r') as f:\n",
    "    remedies= json.load(f)"
   ]
  },
  {
   "cell_type": "code",
   "execution_count": 16,
   "metadata": {},
   "outputs": [],
   "source": [
    "# Function to predict disease from an image\n",
    "def predict_disease(image_path):\n",
    "\n",
    "    img = load_img(image_path, target_size=(img_size))\n",
    "    img_array = img_to_array(img)\n",
    "    img_array = np.expand_dims(img_array, axis=0)\n",
    "    img_array = preprocess_input(img_array)\n",
    "\n",
    "    prediction = model.predict(img_array)[0]\n",
    "    predicted_class_index = np.argmax(prediction)\n",
    "    disease = class_indices[str(predicted_class_index)]\n",
    "    confidence = prediction[predicted_class_index]\n",
    "\n",
    "    return disease, confidence "
   ]
  },
  {
   "cell_type": "code",
   "execution_count": 17,
   "metadata": {},
   "outputs": [
    {
     "name": "stdout",
     "output_type": "stream",
     "text": [
      "1/1 [==============================] - 1s 1s/step\n",
      "Predicted Disease: Potato___Late_blight, Confidence: 0.6368938088417053\n",
      "Remedies: Remedies for Potato Late Blight\n"
     ]
    }
   ],
   "source": [
    "image_path = 'D:/testproject/dataset/PlantDiseasesDataset/Apple/train/Apple Healthy/AppleHealthy(3).JPG' \n",
    "\n",
    "disease, confidence = predict_disease(image_path)\n",
    "\n",
    "print(f'Predicted Disease: {disease}, Confidence: {confidence}')\n",
    "\n",
    "if disease.strip() in remedies:\n",
    "    remedy = remedies[disease]\n",
    "    print(f'Remedies: {remedy}')\n",
    "else:\n",
    "    print('No remedies found for this disease.')"
   ]
  }
 ],
 "metadata": {
  "kernelspec": {
   "display_name": "Python 3",
   "language": "python",
   "name": "python3"
  },
  "language_info": {
   "codemirror_mode": {
    "name": "ipython",
    "version": 3
   },
   "file_extension": ".py",
   "mimetype": "text/x-python",
   "name": "python",
   "nbconvert_exporter": "python",
   "pygments_lexer": "ipython3",
   "version": "3.10.4"
  }
 },
 "nbformat": 4,
 "nbformat_minor": 2
}
