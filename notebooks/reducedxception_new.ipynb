{
 "cells": [
  {
   "cell_type": "code",
   "execution_count": 1,
   "metadata": {},
   "outputs": [],
   "source": [
    "import json\n",
    "import numpy as np\n",
    "import matplotlib.pyplot as plt\n",
    "from tensorflow.keras.preprocessing.image import ImageDataGenerator\n",
    "from tensorflow.keras.applications import Xception\n",
    "from tensorflow.keras.models import Sequential\n",
    "from tensorflow.keras.layers import Dense, Flatten, Dropout\n",
    "from tensorflow.keras.optimizers import Adam\n",
    "from tensorflow.keras.callbacks import ModelCheckpoint, EarlyStopping\n",
    "from tensorflow.keras.applications.xception import preprocess_input  # Adjusted import for Xception\n",
    "from tensorflow.keras.preprocessing.image import load_img, img_to_array\n",
    "from tensorflow.keras.regularizers import l2\n",
    "from tensorflow.keras.models import load_model"
   ]
  },
  {
   "cell_type": "code",
   "execution_count": null,
   "metadata": {},
   "outputs": [],
   "source": [
    "# Check available GPUs\n",
    "import tensorflow as tf\n",
    "gpus = tf.config.list_physical_devices('GPU')\n",
    "if gpus:\n",
    "    # Print information about each GPU\n",
    "    for gpu in gpus:\n",
    "        print(\"Name:\", gpu.name)\n",
    "        print(\"Type:\", gpu.device_type)\n",
    "else:\n",
    "    print(\"No GPU available, using CPU instead\")\n"
   ]
  },
  {
   "cell_type": "code",
   "execution_count": 2,
   "metadata": {},
   "outputs": [],
   "source": [
    "train_dir = 'D:/testproject/New Plant Diseases Dataset(Augmented)/New Plant Diseases Dataset(Augmented)/train'\n",
    "val_dir = 'D:/testproject/New Plant Diseases Dataset(Augmented)/New Plant Diseases Dataset(Augmented)/valid'\n",
    "test_dir = 'D:/testproject/New Plant Diseases Dataset(Augmented)/test/test'\n",
    "img_size = (299, 299) \n",
    "batch_size = 16\n",
    "epochs = 10\n",
    "patience = 5\n"
   ]
  },
  {
   "cell_type": "code",
   "execution_count": 3,
   "metadata": {},
   "outputs": [
    {
     "name": "stdout",
     "output_type": "stream",
     "text": [
      "Found 12750 images belonging to 17 classes.\n",
      "Found 7809 images belonging to 17 classes.\n",
      "Found 468 images belonging to 17 classes.\n"
     ]
    }
   ],
   "source": [
    "# Data preprocessing and augmentation\n",
    "train_datagen = ImageDataGenerator(\n",
    "    preprocessing_function=preprocess_input,  \n",
    "    rotation_range=60,\n",
    "    width_shift_range=0.3,\n",
    "    height_shift_range=0.3,\n",
    "    shear_range=0.3,\n",
    "    zoom_range=0.3,\n",
    "    horizontal_flip=True,\n",
    "    fill_mode='nearest'\n",
    ")\n",
    "\n",
    "val_datagen = ImageDataGenerator(\n",
    "    preprocessing_function=preprocess_input  \n",
    ")\n",
    "\n",
    "test_datagen = ImageDataGenerator(\n",
    "    preprocessing_function=preprocess_input \n",
    ")\n",
    "\n",
    "train_generator = train_datagen.flow_from_directory(\n",
    "    train_dir,\n",
    "    target_size=img_size,\n",
    "    batch_size=batch_size,\n",
    "    class_mode='categorical'\n",
    ")\n",
    "\n",
    "val_generator = val_datagen.flow_from_directory(\n",
    "    val_dir,\n",
    "    target_size=img_size,\n",
    "    batch_size=batch_size,\n",
    "    class_mode='categorical'\n",
    ")\n",
    "\n",
    "test_generator = test_datagen.flow_from_directory(\n",
    "    test_dir,\n",
    "    target_size=img_size,\n",
    "    batch_size=batch_size,\n",
    "    class_mode='categorical',\n",
    "    shuffle=False\n",
    ")\n"
   ]
  },
  {
   "cell_type": "code",
   "execution_count": 4,
   "metadata": {},
   "outputs": [],
   "source": [
    "# Build the model\n",
    "base_model = Xception(weights='imagenet', include_top=False, input_shape=(299, 299, 3)) "
   ]
  },
  {
   "cell_type": "code",
   "execution_count": 5,
   "metadata": {},
   "outputs": [],
   "source": [
    "# Freeze all layers of the base model\n",
    "for layer in base_model.layers:\n",
    "    layer.trainable = False\n",
    "\n",
    "\n",
    "model = Sequential([\n",
    "    base_model,\n",
    "    Flatten(),\n",
    "    Dense(256, activation='relu',kernel_regularizer=l2(0.001)),\n",
    "    Dropout(0.7),\n",
    "    Dense(train_generator.num_classes, activation='softmax')\n",
    "])\n"
   ]
  },
  {
   "cell_type": "code",
   "execution_count": 6,
   "metadata": {},
   "outputs": [],
   "source": [
    "# Compile the model\n",
    "model.compile(optimizer=Adam(learning_rate=0.0001), loss='categorical_crossentropy', metrics=['accuracy'])\n"
   ]
  },
  {
   "cell_type": "code",
   "execution_count": 7,
   "metadata": {},
   "outputs": [],
   "source": [
    "# Define callbacks\n",
    "checkpoint = ModelCheckpoint('models/reduced_xception_plant_disease_detection.h5', monitor='val_accuracy', verbose=1, save_best_only=True, mode='max')\n",
    "early_stopping = EarlyStopping(monitor='val_loss', patience=patience, verbose=1, restore_best_weights=True)\n"
   ]
  },
  {
   "cell_type": "code",
   "execution_count": 8,
   "metadata": {},
   "outputs": [
    {
     "name": "stdout",
     "output_type": "stream",
     "text": [
      "Epoch 1/10\n",
      "796/796 [==============================] - ETA: 0s - loss: 2.4279 - accuracy: 0.3132\n",
      "Epoch 1: val_accuracy improved from -inf to 0.71888, saving model to models\\reduced_xception_plant_disease_detection.h5\n",
      "796/796 [==============================] - 389s 474ms/step - loss: 2.4279 - accuracy: 0.3132 - val_loss: 1.2236 - val_accuracy: 0.7189\n",
      "Epoch 2/10\n",
      "796/796 [==============================] - ETA: 0s - loss: 1.9017 - accuracy: 0.4482\n",
      "Epoch 2: val_accuracy improved from 0.71888 to 0.79662, saving model to models\\reduced_xception_plant_disease_detection.h5\n",
      "796/796 [==============================] - 316s 397ms/step - loss: 1.9017 - accuracy: 0.4482 - val_loss: 0.9047 - val_accuracy: 0.7966\n",
      "Epoch 3/10\n",
      "796/796 [==============================] - ETA: 0s - loss: 1.6984 - accuracy: 0.4995\n",
      "Epoch 3: val_accuracy improved from 0.79662 to 0.80904, saving model to models\\reduced_xception_plant_disease_detection.h5\n",
      "796/796 [==============================] - 348s 437ms/step - loss: 1.6984 - accuracy: 0.4995 - val_loss: 0.8394 - val_accuracy: 0.8090\n",
      "Epoch 4/10\n",
      "796/796 [==============================] - ETA: 0s - loss: 1.6034 - accuracy: 0.5182\n",
      "Epoch 4: val_accuracy improved from 0.80904 to 0.83671, saving model to models\\reduced_xception_plant_disease_detection.h5\n",
      "796/796 [==============================] - 313s 393ms/step - loss: 1.6034 - accuracy: 0.5182 - val_loss: 0.7107 - val_accuracy: 0.8367\n",
      "Epoch 5/10\n",
      "796/796 [==============================] - ETA: 0s - loss: 1.5034 - accuracy: 0.5494\n",
      "Epoch 5: val_accuracy improved from 0.83671 to 0.84836, saving model to models\\reduced_xception_plant_disease_detection.h5\n",
      "796/796 [==============================] - 311s 390ms/step - loss: 1.5034 - accuracy: 0.5494 - val_loss: 0.6742 - val_accuracy: 0.8484\n",
      "Epoch 6/10\n",
      "796/796 [==============================] - ETA: 0s - loss: 1.4678 - accuracy: 0.5573\n",
      "Epoch 6: val_accuracy improved from 0.84836 to 0.87269, saving model to models\\reduced_xception_plant_disease_detection.h5\n",
      "796/796 [==============================] - 583s 733ms/step - loss: 1.4678 - accuracy: 0.5573 - val_loss: 0.6082 - val_accuracy: 0.8727\n",
      "Epoch 7/10\n",
      "796/796 [==============================] - ETA: 0s - loss: 1.4189 - accuracy: 0.5749\n",
      "Epoch 7: val_accuracy did not improve from 0.87269\n",
      "796/796 [==============================] - 306s 384ms/step - loss: 1.4189 - accuracy: 0.5749 - val_loss: 0.6577 - val_accuracy: 0.8645\n",
      "Epoch 8/10\n",
      "796/796 [==============================] - ETA: 0s - loss: 1.4208 - accuracy: 0.5799\n",
      "Epoch 8: val_accuracy did not improve from 0.87269\n",
      "796/796 [==============================] - 308s 386ms/step - loss: 1.4208 - accuracy: 0.5799 - val_loss: 0.6439 - val_accuracy: 0.8636\n",
      "Epoch 9/10\n",
      "796/796 [==============================] - ETA: 0s - loss: 1.3918 - accuracy: 0.5905\n",
      "Epoch 9: val_accuracy improved from 0.87269 to 0.87359, saving model to models\\reduced_xception_plant_disease_detection.h5\n",
      "796/796 [==============================] - 312s 392ms/step - loss: 1.3918 - accuracy: 0.5905 - val_loss: 0.6251 - val_accuracy: 0.8736\n",
      "Epoch 10/10\n",
      "796/796 [==============================] - ETA: 0s - loss: 1.3705 - accuracy: 0.5902\n",
      "Epoch 10: val_accuracy did not improve from 0.87359\n",
      "796/796 [==============================] - 346s 435ms/step - loss: 1.3705 - accuracy: 0.5902 - val_loss: 0.6327 - val_accuracy: 0.8701\n"
     ]
    }
   ],
   "source": [
    "# Train the model\n",
    "history = model.fit(\n",
    "    train_generator,\n",
    "    steps_per_epoch=train_generator.samples // batch_size,\n",
    "    epochs=epochs,\n",
    "    validation_data=val_generator,\n",
    "    validation_steps=val_generator.samples // batch_size,\n",
    "    callbacks=[checkpoint, early_stopping] \n",
    ")"
   ]
  },
  {
   "cell_type": "code",
   "execution_count": 9,
   "metadata": {},
   "outputs": [
    {
     "data": {
      "image/png": "[encoded data removed]",
      "text/plain": [
       "<Figure size 640x480 with 1 Axes>"
      ]
     },
     "metadata": {},
     "output_type": "display_data"
    }
   ],
   "source": [
    "# Plot training history\n",
    "plt.plot(history.history['accuracy'], label='accuracy')\n",
    "plt.plot(history.history['val_accuracy'], label='val_accuracy')\n",
    "plt.xlabel('Epoch')\n",
    "plt.ylabel('Accuracy')\n",
    "plt.ylim([0, 1])\n",
    "plt.legend(loc='lower right')\n",
    "plt.show()\n"
   ]
  },
  {
   "cell_type": "code",
   "execution_count": 6,
   "metadata": {},
   "outputs": [],
   "source": [
    "# Load model\n",
    "model = load_model('models/xception_plant_disease_detection.h5')"
   ]
  },
  {
   "cell_type": "code",
   "execution_count": 10,
   "metadata": {},
   "outputs": [
    {
     "name": "stderr",
     "output_type": "stream",
     "text": [
      "C:\\Users\\Nabu\\AppData\\Local\\Temp\\ipykernel_21528\\2128755816.py:2: UserWarning: `Model.evaluate_generator` is deprecated and will be removed in a future version. Please use `Model.evaluate`, which supports generators.\n",
      "  test_loss, test_accuracy = model.evaluate_generator(test_generator, verbose=1)\n"
     ]
    },
    {
     "name": "stdout",
     "output_type": "stream",
     "text": [
      "30/30 [==============================] - 8s 254ms/step - loss: 0.5788 - accuracy: 0.8782\n",
      "Test Accuracy: 0.8782051205635071\n",
      "Test Loss: 0.5787956118583679\n"
     ]
    }
   ],
   "source": [
    "# Evaluate the model on test generator\n",
    "test_loss, test_accuracy = model.evaluate_generator(test_generator, verbose=1)\n",
    "print('Test Accuracy:', test_accuracy)\n",
    "print('Test Loss:', test_loss)\n"
   ]
  },
  {
   "cell_type": "code",
   "execution_count": 11,
   "metadata": {},
   "outputs": [],
   "source": [
    "# Create a mapping from class indices to class names\n",
    "class_indices = {v: k for k, v in train_generator.class_indices.items()}\n"
   ]
  },
  {
   "cell_type": "code",
   "execution_count": 12,
   "metadata": {},
   "outputs": [],
   "source": [
    "# Save class indices to a JSON file\n",
    "with open('class_indices_xception.json', 'w') as f:\n",
    "    json.dump(class_indices, f)"
   ]
  },
  {
   "cell_type": "code",
   "execution_count": 13,
   "metadata": {},
   "outputs": [],
   "source": [
    "# Load class indices\n",
    "with open('class_indices_xception.json', 'r') as f:\n",
    "    class_indices = json.load(f)\n",
    "\n",
    "# Load remedies\n",
    "with open('remedies.json', 'r') as f:\n",
    "    remedies= json.load(f)"
   ]
  },
  {
   "cell_type": "code",
   "execution_count": 14,
   "metadata": {},
   "outputs": [],
   "source": [
    "# Function to predict disease from an image\n",
    "def predict_disease(image_path):\n",
    "\n",
    "    img = load_img(image_path, target_size=(img_size))\n",
    "    img_array = img_to_array(img)\n",
    "    img_array = np.expand_dims(img_array, axis=0)\n",
    "    img_array = preprocess_input(img_array)\n",
    "\n",
    "    prediction = model.predict(img_array)[0]\n",
    "    predicted_class_index = np.argmax(prediction)\n",
    "    disease = class_indices[str(predicted_class_index)]\n",
    "    confidence = prediction[predicted_class_index]\n",
    "\n",
    "    return disease, confidence "
   ]
  },
  {
   "cell_type": "code",
   "execution_count": 16,
   "metadata": {},
   "outputs": [
    {
     "name": "stdout",
     "output_type": "stream",
     "text": [
      "1/1 [==============================] - 0s 53ms/step\n",
      "Predicted Disease: Potato___healthy, Confidence: 0.9575740098953247\n",
      "Remedies: Remedies for Healthy Potato\n"
     ]
    }
   ],
   "source": [
    "image_path = 'D:/testproject/dataset/PlantDiseasesDataset/Apple/train/Apple Healthy/AppleHealthy(4).JPG' \n",
    "\n",
    "disease, confidence = predict_disease(image_path)\n",
    "\n",
    "print(f'Predicted Disease: {disease}, Confidence: {confidence}')\n",
    "\n",
    "if disease.strip() in remedies:\n",
    "    remedy = remedies[disease]\n",
    "    print(f'Remedies: {remedy}')\n",
    "else:\n",
    "    print('No remedies found for this disease.')"
   ]
  }
 ],
 "metadata": {
  "kernelspec": {
   "display_name": "Python 3",
   "language": "python",
   "name": "python3"
  },
  "language_info": {
   "codemirror_mode": {
    "name": "ipython",
    "version": 3
   },
   "file_extension": ".py",
   "mimetype": "text/x-python",
   "name": "python",
   "nbconvert_exporter": "python",
   "pygments_lexer": "ipython3",
   "version": "3.10.4"
  }
 },
 "nbformat": 4,
 "nbformat_minor": 2
}
